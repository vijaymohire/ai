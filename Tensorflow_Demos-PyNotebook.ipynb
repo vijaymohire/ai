{
 "cells": [
  {
   "cell_type": "code",
   "execution_count": 0,
   "metadata": {
    "id": "ZSvrZBGM4zrN",
    "colab_type": "code",
    "colab": {
     "base_uri": "https://localhost:8080/",
     "height": 36.0
    },
    "outputId": "e4149356-8a5e-46c4-9086-18b5286764fe",
    "collapsed": false
   },
   "outputs": [
    {
     "name": "stdout",
     "output_type": "stream",
     "text": [
      "8.774964\n"
     ]
    }
   ],
   "source": [
    "import tensorflow as tf\n",
    "\n",
    "vector = tf.constant([[4,5,6]], dtype=tf.float32)\n",
    "eucNorm = tf.norm(vector, ord=\"euclidean\")\n",
    "\n",
    "with tf.Session() as sess:\n",
    "  print(sess.run(eucNorm))\n"
   ]
  },
  {
   "cell_type": "code",
   "execution_count": 0,
   "metadata": {
    "id": "8OTqQIiy44lF",
    "colab_type": "code",
    "colab": {
     "base_uri": "https://localhost:8080/",
     "height": 130.0
    },
    "outputId": "45f66194-973a-4eac-8ee5-077545b985a6"
   },
   "outputs": [
    {
     "name": "stdout",
     "output_type": "stream",
     "text": [
      "<class 'list'>\n",
      "<class 'numpy.ndarray'>\n",
      "<class 'tensorflow.python.framework.ops.Tensor'>\n",
      "<class 'tensorflow.python.framework.ops.Tensor'>\n",
      "<class 'tensorflow.python.framework.ops.Tensor'>\n",
      "<class 'tensorflow.python.framework.ops.Tensor'>\n"
     ]
    }
   ],
   "source": [
    "import numpy as np\n",
    "import tensorflow as tf\n",
    "\n",
    "matrix1 = [[1.0,2.0],[3.0,4.0]]\n",
    "matrix2 = np.array([[1.0,2.0], [3.0,4.0]], dtype = np.float32)\n",
    "matrix3 = tf.constant([[1.0,2.0], [3.0,4.0]])\n",
    "\n",
    "print(type(matrix1))\n",
    "print(type(matrix2)) \n",
    "print(type(matrix3))\n",
    "\n",
    "tensorForM1 = tf.convert_to_tensor( matrix1,dtype =tf.float32)\n",
    "tensorForM2 = tf.convert_to_tensor( matrix2,dtype =tf.float32)\n",
    "tensorForM3 = tf.convert_to_tensor( matrix3,dtype =tf.float32)\n",
    "\n",
    "print(type(tensorForM1))\n",
    "print(type(tensorForM2))\n",
    "print(type(tensorForM3))"
   ]
  },
  {
   "cell_type": "code",
   "execution_count": 0,
   "metadata": {
    "id": "ywXqCs7U4zrw",
    "colab_type": "code",
    "colab": {
     "base_uri": "https://localhost:8080/",
     "height": 92.0
    },
    "outputId": "f062a9cc-aec0-4111-9bc6-6a310e42c51e"
   },
   "outputs": [
    {
     "name": "stdout",
     "output_type": "stream",
     "text": [
      "[[28 40 54]\n",
      " [30 22 12]]\n",
      "[[122 167]\n",
      " [ 46  64]]\n"
     ]
    }
   ],
   "source": [
    "\n",
    "import tensorflow as tf\n",
    "mat1 = tf.constant( [[4,5,6],[3,2,1]] )\n",
    "mat2 = tf.constant( [[ 7,8,9],[10,11,12]] )\n",
    "mult = tf.multiply( mat1, mat2)\n",
    "dotproduct = tf.matmul( mat1, tf.transpose(mat2))\n",
    "with tf.Session() as sess:\n",
    "  print(sess.run(mult))\n",
    "  print(sess.run(dotproduct))\n"
   ]
  },
  {
   "cell_type": "code",
   "execution_count": 0,
   "metadata": {
    "id": "Zu3JQwUrhcP9",
    "colab_type": "code",
    "colab": {
     "base_uri": "https://localhost:8080/",
     "height": 243.0
    },
    "outputId": "5c0e497a-0a2d-43ad-d8e8-816a73ef2653"
   },
   "outputs": [
    {
     "name": "stdout",
     "output_type": "stream",
     "text": [
      "--X--\n",
      "[[1 4]\n",
      " [2 5]\n",
      " [3 6]]\n",
      "--Y with perm--\n",
      "[[[1 6]\n",
      "  [2 5]\n",
      "  [3 4]]\n",
      "\n",
      " [[4 3]\n",
      "  [5 6]\n",
      "  [6 3]]]\n"
     ]
    }
   ],
   "source": [
    "import tensorflow as tf\n",
    "x=[[1,2,3],[4,5,6]]\n",
    "x=tf.convert_to_tensor(x)\n",
    "xtrans = tf.transpose(x)\n",
    "\n",
    "y = ( [ [[1,2,3],[6,5,4]], [[4,5,6],[3,6,3]] ])\n",
    "y =tf.convert_to_tensor(y)\n",
    "ytrans = tf.transpose(y,perm=[0,2,1])\n",
    "\n",
    "with tf.Session() as sess:\n",
    "  print(\"--X--\")\n",
    "  print(sess.run(xtrans))\n",
    "  print(\"--Y with perm--\")\n",
    "  print(sess.run(ytrans))\n"
   ]
  },
  {
   "cell_type": "code",
   "execution_count": 0,
   "metadata": {
    "id": "23z-pvcD1oGV",
    "colab_type": "code",
    "colab": {
     "base_uri": "https://localhost:8080/",
     "height": 92.0
    },
    "outputId": "4da6248e-9ed1-469c-d6be-0934cd0b6f6e"
   },
   "outputs": [
    {
     "name": "stdout",
     "output_type": "stream",
     "text": [
      "[[ 3.  4.]\n",
      " [ 2. -1.]]\n",
      "[[0.27272728 0.09090909]]\n",
      "Linear equation is: y=-2.9999999999999996x+10.999999672174463\n"
     ]
    }
   ],
   "source": [
    "# Code for linear equation \n",
    "import tensorflow as tf\n",
    "#vars for equation 1\n",
    "x1 = tf.constant(3, dtype=tf.float32)\n",
    "y1 = tf.constant(2, dtype=tf.float32)\n",
    "point1=tf.stack([x1,y1])\n",
    "#vars for equation 2\n",
    "x2 = tf.constant(4, dtype=tf.float32)\n",
    "y2 = tf.constant(-1, dtype=tf.float32)\n",
    "point2=tf.stack([x2,y2])\n",
    "#solve for AX=C\n",
    "X=tf.transpose(tf.stack ([point1,point2]))\n",
    "C=tf.ones((1,2), dtype=tf.float32) # ones returns a matrix of all 1, with 1 row and 2 cols\n",
    "A = tf.matmul(C, tf.matrix_inverse(X))\n",
    "with tf.Session() as sess:\n",
    "\tX= sess.run(X)\n",
    "\tprint(X)\n",
    "\tA = sess.run(A)\n",
    "\tprint(A)\n",
    "b= 1/A[0][1]\n",
    "a= -b*A[0][0]\n",
    "print( \"Linear equation is: y={a}x+{b}\".format(a=a,b=b)) \n"
   ]
  }
 ],
 "metadata": {
  "colab": {
   "name": "Copy of Basics.ipynb",
   "version": "0.3.2",
   "provenance": [],
   "collapsed_sections": []
  },
  "kernelspec": {
   "display_name": "Python 3",
   "language": "python",
   "name": "python3"
  }
 },
 "nbformat": 4,
 "nbformat_minor": 0
}
